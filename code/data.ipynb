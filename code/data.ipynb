{
 "cells": [
  {
   "cell_type": "markdown",
   "metadata": {},
   "source": [
    "# Query Data\n"
   ]
  },
  {
   "cell_type": "markdown",
   "metadata": {},
   "source": [
    "## MEV Tag\n"
   ]
  },
  {
   "cell_type": "code",
   "execution_count": 2,
   "metadata": {},
   "outputs": [],
   "source": [
    "import os\n",
    "\n",
    "import pandas as pd\n",
    "import requests\n",
    "import snscrape.modules.twitter as sntwitter\n",
    "from pytrends import dailydata\n",
    "from pytrends.request import TrendReq\n",
    "from tqdm import tqdm"
   ]
  },
  {
   "cell_type": "code",
   "execution_count": 6,
   "metadata": {},
   "outputs": [
    {
     "name": "stdout",
     "output_type": "stream",
     "text": [
      "working dir: /Users/crinstaniev/Dev/blockchain-ethics\n"
     ]
    }
   ],
   "source": [
    "# set default directory\n",
    "if os.getcwd().split('/')[-1] != 'blockchain-ethics':\n",
    "    os.chdir('..')\n",
    "print(f'working dir: {os.getcwd()}')"
   ]
  },
  {
   "cell_type": "code",
   "execution_count": 4,
   "metadata": {},
   "outputs": [
    {
     "name": "stderr",
     "output_type": "stream",
     "text": [
      "20574it [14:23, 23.82it/s]\n"
     ]
    }
   ],
   "source": [
    "# Creating list to append tweet data to\n",
    "tweets_list = []\n",
    "\n",
    "# Using TwitterSearchScraper to scrape data and append tweets to lifst\n",
    "for i,tweet in tqdm(enumerate(sntwitter.TwitterSearchScraper('#MEV since:2019-01-01 until:2022-10-01','corona lang:en').get_items())):\n",
    "    tweets_list.append([tweet.date,  tweet.content]) #tweet.id"
   ]
  },
  {
   "cell_type": "code",
   "execution_count": 16,
   "metadata": {},
   "outputs": [],
   "source": [
    "result_mev = pd.DataFrame(tweets_list, columns=['Date', 'Tweets'])"
   ]
  },
  {
   "cell_type": "code",
   "execution_count": 22,
   "metadata": {},
   "outputs": [],
   "source": [
    "result_mev.to_csv('data/mev_tweets.csv')"
   ]
  },
  {
   "cell_type": "markdown",
   "metadata": {},
   "source": [
    "## Flashbots Tag\n"
   ]
  },
  {
   "cell_type": "code",
   "execution_count": 10,
   "metadata": {},
   "outputs": [
    {
     "name": "stderr",
     "output_type": "stream",
     "text": [
      "date=2019-01-25 17:30:25+00:00: 852it [00:40, 21.01it/s]\n"
     ]
    }
   ],
   "source": [
    "tweets_list2 = []\n",
    "\n",
    "loop = tqdm(enumerate(sntwitter.TwitterSearchScraper('#flashbots since:2019-01-1 until:2022-10-01','corona lang:en').get_items()))\n",
    "\n",
    "# Using TwitterSearchScraper to scrape data and append tweets to list\n",
    "for i,tweet in loop:\n",
    "    tweets_list2.append([tweet.date,  tweet.content]) #tweet.id\n",
    "    loop.set_description_str(f\"date={tweet.date}\")"
   ]
  },
  {
   "cell_type": "code",
   "execution_count": 19,
   "metadata": {},
   "outputs": [],
   "source": [
    "result_flashbots = pd.DataFrame(tweets_list2, columns=['Date', 'Tweets'])"
   ]
  },
  {
   "cell_type": "code",
   "execution_count": 21,
   "metadata": {},
   "outputs": [],
   "source": [
    "result_flashbots.to_csv('data/flashbots_tweets.csv')"
   ]
  },
  {
   "cell_type": "markdown",
   "metadata": {},
   "source": [
    "## Google Trends\n"
   ]
  },
  {
   "cell_type": "code",
   "execution_count": null,
   "metadata": {},
   "outputs": [],
   "source": [
    "dftrendmev = dailydata.get_daily_data('mev', 2019, 1, 2022, 10)\n",
    "dftrendflashbots = dailydata.get_daily_data('flashbots', 2019, 1, 2022, 10)"
   ]
  },
  {
   "cell_type": "code",
   "execution_count": null,
   "metadata": {},
   "outputs": [],
   "source": [
    "dftrendmev.to_csv('data/trend_mev.csv')\n",
    "dftrendflashbots.to_csv('data/trend_flashbots.csv')"
   ]
  },
  {
   "cell_type": "code",
   "execution_count": null,
   "metadata": {},
   "outputs": [],
   "source": []
  }
 ],
 "metadata": {
  "kernelspec": {
   "display_name": "Python 3.8.15 ('blockchain-ethics-3DrjvFmO')",
   "language": "python",
   "name": "python3"
  },
  "language_info": {
   "codemirror_mode": {
    "name": "ipython",
    "version": 3
   },
   "file_extension": ".py",
   "mimetype": "text/x-python",
   "name": "python",
   "nbconvert_exporter": "python",
   "pygments_lexer": "ipython3",
   "version": "3.8.15"
  },
  "orig_nbformat": 4,
  "vscode": {
   "interpreter": {
    "hash": "fe72926128bcb00dbb07cded90d19c2ebf8d7d12258731c4140df69d47226b5d"
   }
  }
 },
 "nbformat": 4,
 "nbformat_minor": 2
}
