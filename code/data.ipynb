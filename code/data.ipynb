{
 "cells": [
  {
   "cell_type": "markdown",
   "metadata": {},
   "source": [
    "# Query Data\n"
   ]
  },
  {
   "cell_type": "markdown",
   "metadata": {},
   "source": [
    "## MEV Tag\n"
   ]
  },
  {
   "cell_type": "code",
   "execution_count": 31,
   "metadata": {},
   "outputs": [],
   "source": [
    "import os\n",
    "\n",
    "import pandas as pd\n",
    "import requests\n",
    "import snscrape.modules.twitter as sntwitter\n",
    "from pytrends import dailydata\n",
    "from pytrends.request import TrendReq\n",
    "from tqdm import tqdm"
   ]
  },
  {
   "cell_type": "code",
   "execution_count": 6,
   "metadata": {},
   "outputs": [
    {
     "name": "stdout",
     "output_type": "stream",
     "text": [
      "working dir: /Users/crinstaniev/Dev/blockchain-ethics\n"
     ]
    }
   ],
   "source": [
    "# set default directory\n",
    "if os.getcwd().split('/')[-1] != 'blockchain-ethics':\n",
    "    os.chdir('..')\n",
    "print(f'working dir: {os.getcwd()}')"
   ]
  },
  {
   "cell_type": "code",
   "execution_count": 4,
   "metadata": {},
   "outputs": [
    {
     "name": "stderr",
     "output_type": "stream",
     "text": [
      "20574it [14:23, 23.82it/s]\n"
     ]
    }
   ],
   "source": [
    "# Creating list to append tweet data to\n",
    "tweets_list = []\n",
    "\n",
    "# Using TwitterSearchScraper to scrape data and append tweets to lifst\n",
    "for i,tweet in tqdm(enumerate(sntwitter.TwitterSearchScraper('#MEV since:2019-01-01 until:2022-10-01','corona lang:en').get_items())):\n",
    "    tweets_list.append([tweet.date,  tweet.content]) #tweet.id"
   ]
  },
  {
   "cell_type": "code",
   "execution_count": 16,
   "metadata": {},
   "outputs": [],
   "source": [
    "result_mev = pd.DataFrame(tweets_list, columns=['Date', 'Tweets'])"
   ]
  },
  {
   "cell_type": "code",
   "execution_count": 22,
   "metadata": {},
   "outputs": [],
   "source": [
    "result_mev.to_csv('data/mev_tweets.csv')"
   ]
  },
  {
   "cell_type": "markdown",
   "metadata": {},
   "source": [
    "## Flashbots Tag\n"
   ]
  },
  {
   "cell_type": "code",
   "execution_count": 10,
   "metadata": {},
   "outputs": [
    {
     "name": "stderr",
     "output_type": "stream",
     "text": [
      "date=2019-01-25 17:30:25+00:00: 852it [00:40, 21.01it/s]\n"
     ]
    }
   ],
   "source": [
    "tweets_list2 = []\n",
    "\n",
    "loop = tqdm(enumerate(sntwitter.TwitterSearchScraper('#flashbots since:2019-01-1 until:2022-10-01','corona lang:en').get_items()))\n",
    "\n",
    "# Using TwitterSearchScraper to scrape data and append tweets to list\n",
    "for i,tweet in loop:\n",
    "    tweets_list2.append([tweet.date,  tweet.content]) #tweet.id\n",
    "    loop.set_description_str(f\"date={tweet.date}\")"
   ]
  },
  {
   "cell_type": "code",
   "execution_count": 19,
   "metadata": {},
   "outputs": [],
   "source": [
    "result_flashbots = pd.DataFrame(tweets_list2, columns=['Date', 'Tweets'])"
   ]
  },
  {
   "cell_type": "code",
   "execution_count": 21,
   "metadata": {},
   "outputs": [],
   "source": [
    "result_flashbots.to_csv('data/flashbots_tweets.csv')"
   ]
  },
  {
   "cell_type": "markdown",
   "metadata": {},
   "source": [
    "## Google Trends\n"
   ]
  },
  {
   "cell_type": "code",
   "execution_count": 28,
   "metadata": {},
   "outputs": [],
   "source": [
    "cookies = {\n",
    "    '__utma': '10102256.1985058686.1665406583.1665406583.1665406583.1',\n",
    "    '__utmc': '10102256',\n",
    "    '__utmz': '10102256.1665406583.1.1.utmcsr=(direct)|utmccn=(direct)|utmcmd=(none)',\n",
    "    '__utmt': '1',\n",
    "    '__utmb': '10102256.19.9.1665407945705',\n",
    "    'HSID': 'AdCdSq-KKs7In9-sy',\n",
    "    'SSID': 'ADbIkPfJNGwXnFLmX',\n",
    "    'APISID': '3aCZlGbCX4nVAXkx/AhxUTZKAT6ZIVJnMG',\n",
    "    'SAPISID': '7tkt5egfO7pSsNfi/ATnc9TuhrGy8aJetO',\n",
    "    '__Secure-1PAPISID': '7tkt5egfO7pSsNfi/ATnc9TuhrGy8aJetO',\n",
    "    '__Secure-3PAPISID': '7tkt5egfO7pSsNfi/ATnc9TuhrGy8aJetO',\n",
    "    '__Secure-ENID': '6.SE=U7ouE0DsPmJ9uvE4lm3RAl8QLw28v9rbff3AoVXUqSgbCFyk_TUEOQMX39xC2-Vd2Jn3TdYznWpsNGaxUVbWXI_BmXhJtOphBckwiABwbXrR0VsWyOzNtSPF8FU9ObSViYmJ2xwnlgbTfTVDllFvk3jJqLIhLstpk2X_VKk8UHa-O3qM2TMpf7_wWD_14nw5zT5zB2ApyNzSXfSyEq25GfgNfydwcg',\n",
    "    'SEARCH_SAMESITE': 'CgQIyJYB',\n",
    "    'AEC': 'AakniGP1xie6MVuS099nhNVX1FRUYERbtJa2J9-4tv0LMNNA-UhszQBNbj8',\n",
    "    'SID': 'PQjY738ZaX1CN6aQjY2hDQQMIwKW2K87Ahh8QeDnim3m01-hJjkEngdm_P4v5WcJNXRR0A.',\n",
    "    '__Secure-1PSID': 'PQjY738ZaX1CN6aQjY2hDQQMIwKW2K87Ahh8QeDnim3m01-hdNmr61lTxvTHa5y1RvH1eA.',\n",
    "    '__Secure-3PSID': 'PQjY738ZaX1CN6aQjY2hDQQMIwKW2K87Ahh8QeDnim3m01-hbKzY5fm8Ed_UOTZuO1PMew.',\n",
    "    '1P_JAR': '2022-10-10-12',\n",
    "    'NID': '511=J4o3Yrjb7AxceXK8C6POc5dUPHXaTUCj1sTMrLVe0t7OacLBBo9dMVxPjIZM_Yq44_4l09CjUjh2LuhG_cgJCnHR3bmz0EiRXhtoVH-LcHqh1gQI44l-Xe0Gle5dKb200vlv40echyM_vgQGXabjn3YnHY40yQS6xajP_R0xfMX47dcMv_shkeTPSU4-ZzpNKvOuQvxf5ZrWVDM71farPnMwJyXPHveZZTshzVGcNbdeSVNBj9IPKLEtweOVKpY',\n",
    "    'SIDCC': 'AEf-XMQKg2RHPkgZogcZCAXvQNApLqkG-1By0IRKZnQzkIlrJwMsKKGVSxvPEs7Vt7pS91BKhpo',\n",
    "    '__Secure-1PSIDCC': 'AEf-XMRT0TZhub7zK4NFZP08-m9-QJEAuazad90ud_FMrY1jtl3uhE5y7YRiiva2ljhQ4jStA7M',\n",
    "    '__Secure-3PSIDCC': 'AEf-XMRsaLFPnOjEny6_rDMDcp27D2dlanwvInSpCv3DKwuL2SCEt5XjqrjAWyFjcVIclK292ww',\n",
    "}\n",
    "\n",
    "headers = {\n",
    "    'authority': 'trends.google.com',\n",
    "    'accept': 'application/json, text/plain, */*',\n",
    "    'accept-language': 'en-US,en;q=0.9',\n",
    "    'referer': 'https://trends.google.com/trends/explore?date=2019-01-01%202022-10-10&geo=US&gprop=news&q=MEV,Flashbots',\n",
    "    'sec-ch-ua': '\"Google Chrome\";v=\"105\", \"Not)A;Brand\";v=\"8\", \"Chromium\";v=\"105\"',\n",
    "    'sec-ch-ua-mobile': '?0',\n",
    "    'sec-ch-ua-platform': '\"macOS\"',\n",
    "    'sec-fetch-dest': 'empty',\n",
    "    'sec-fetch-mode': 'cors',\n",
    "    'sec-fetch-site': 'same-origin',\n",
    "    'user-agent': 'Mozilla/5.0 (Macintosh; Intel Mac OS X 10_15_7) AppleWebKit/537.36 (KHTML, like Gecko) Chrome/105.0.0.0 Safari/537.36',\n",
    "    'x-client-data': 'CI+2yQEIprbJAQjBtskBCKmdygEIoZfLAQiVocsBCOS7zAEIm73MAQjXxswBCLrJzAEIkcvMAQjiy8wBCP/VzAEI/tfMAQi62MwBCIjdzAEIzN3MAQie38wBCPHfzAEYgbTMARi0zcwBGLjNzAE=',\n",
    "}\n",
    "\n",
    "params = {\n",
    "    'hl': 'en-US',\n",
    "    'tz': '-480',\n",
    "}"
   ]
  },
  {
   "cell_type": "code",
   "execution_count": 29,
   "metadata": {},
   "outputs": [],
   "source": [
    "response = requests.get('https://trends.google.com/trends/api/autocomplete/Flashbots', params=params, cookies=cookies, headers=headers)"
   ]
  },
  {
   "cell_type": "code",
   "execution_count": 32,
   "metadata": {},
   "outputs": [],
   "source": [
    "def google_trend(keywords, date_interval):\n",
    "  pytrend = TrendReq(tz=0)\n",
    "  KEYWORDS=[keywords] \n",
    "  KEYWORDS_CODES=[pytrend.suggestions(keyword=i)[0] for i in KEYWORDS] \n",
    "  df_CODES= pd.DataFrame(KEYWORDS_CODES)\n",
    "  EXACT_KEYWORDS=df_CODES['mid'].to_list()\n",
    "  DATE_INTERVAL=date_interval\n",
    "  COUNTRY=[\"US\"] #Use this link for iso country code\n",
    "  CATEGORY=0 # Use this link to select categories\n",
    "  SEARCH_TYPE='' #default is 'web searches',others include 'images','news','youtube','froogle' (google shopping)\n",
    "  Individual_EXACT_KEYWORD = list(zip(*[iter(EXACT_KEYWORDS)]*1))\n",
    "  Individual_EXACT_KEYWORD = [list(x) for x in Individual_EXACT_KEYWORD]\n",
    "  dicti = {}\n",
    "  i = 1\n",
    "  for Country in COUNTRY:\n",
    "    for keyword in Individual_EXACT_KEYWORD:\n",
    "      pytrend.build_payload(kw_list=keyword, \n",
    "                              timeframe = DATE_INTERVAL, \n",
    "                              geo = Country, \n",
    "                              cat=CATEGORY,\n",
    "                              gprop=SEARCH_TYPE) \n",
    "      dicti[i] = pytrend.interest_over_time()\n",
    "      i+=1\n",
    "  df_trends = pd.concat(dicti, axis=1)\n",
    "  df_trends.columns = df_trends.columns.droplevel(0) #drop outside header\n",
    "  df_trends = df_trends.drop('isPartial', axis = 1) #drop \"isPartial\"\n",
    "  df_trends.reset_index(level=0,inplace=True) #reset_index\n",
    "  df_trends.columns=['date','google trend'] #change column names\n",
    "  return df_trends"
   ]
  },
  {
   "cell_type": "code",
   "execution_count": 36,
   "metadata": {},
   "outputs": [
    {
     "name": "stdout",
     "output_type": "stream",
     "text": [
      "mev:2019-01-01 2019-01-31\n",
      "mev:2019-02-01 2019-02-28\n",
      "mev:2019-03-01 2019-03-31\n",
      "mev:2019-04-01 2019-04-30\n",
      "mev:2019-05-01 2019-05-31\n",
      "mev:2019-06-01 2019-06-30\n",
      "mev:2019-07-01 2019-07-31\n",
      "mev:2019-08-01 2019-08-31\n",
      "mev:2019-09-01 2019-09-30\n",
      "mev:2019-10-01 2019-10-31\n",
      "mev:2019-11-01 2019-11-30\n",
      "mev:2019-12-01 2019-12-31\n",
      "mev:2020-01-01 2020-01-31\n",
      "mev:2020-02-01 2020-02-29\n",
      "mev:2020-03-01 2020-03-31\n",
      "mev:2020-04-01 2020-04-30\n",
      "mev:2020-05-01 2020-05-31\n",
      "mev:2020-06-01 2020-06-30\n",
      "mev:2020-07-01 2020-07-31\n",
      "mev:2020-08-01 2020-08-31\n",
      "mev:2020-09-01 2020-09-30\n",
      "mev:2020-10-01 2020-10-31\n",
      "mev:2020-11-01 2020-11-30\n",
      "mev:2020-12-01 2020-12-31\n",
      "mev:2021-01-01 2021-01-31\n",
      "mev:2021-02-01 2021-02-28\n",
      "mev:2021-03-01 2021-03-31\n",
      "mev:2021-04-01 2021-04-30\n",
      "mev:2021-05-01 2021-05-31\n",
      "mev:2021-06-01 2021-06-30\n",
      "mev:2021-07-01 2021-07-31\n",
      "mev:2021-08-01 2021-08-31\n",
      "mev:2021-09-01 2021-09-30\n",
      "mev:2021-10-01 2021-10-31\n",
      "mev:2021-11-01 2021-11-30\n",
      "mev:2021-12-01 2021-12-31\n",
      "mev:2022-01-01 2022-01-31\n",
      "mev:2022-02-01 2022-02-28\n",
      "mev:2022-03-01 2022-03-31\n",
      "mev:2022-04-01 2022-04-30\n",
      "mev:2022-05-01 2022-05-31\n",
      "mev:2022-06-01 2022-06-30\n",
      "mev:2022-07-01 2022-07-31\n",
      "mev:2022-08-01 2022-08-31\n",
      "mev:2022-09-01 2022-09-30\n",
      "mev:2022-10-01 2022-10-31\n"
     ]
    }
   ],
   "source": [
    "dftrendmev_0 = dailydata.get_daily_data('mev', 2019, 1, 2020, 9)\n",
    "dftrendmev_1 = dailydata.get_daily_data('mev', 2020, 10, 2021, 10)\n",
    "dftrendmev_2 = dailydata.get_daily_data('mev', 2021, 11, 2022, 10)"
   ]
  },
  {
   "cell_type": "code",
   "execution_count": 39,
   "metadata": {},
   "outputs": [
    {
     "data": {
      "text/html": [
       "<div>\n",
       "<style scoped>\n",
       "    .dataframe tbody tr th:only-of-type {\n",
       "        vertical-align: middle;\n",
       "    }\n",
       "\n",
       "    .dataframe tbody tr th {\n",
       "        vertical-align: top;\n",
       "    }\n",
       "\n",
       "    .dataframe thead th {\n",
       "        text-align: right;\n",
       "    }\n",
       "</style>\n",
       "<table border=\"1\" class=\"dataframe\">\n",
       "  <thead>\n",
       "    <tr style=\"text-align: right;\">\n",
       "      <th></th>\n",
       "      <th>mev_unscaled</th>\n",
       "      <th>mev_monthly</th>\n",
       "      <th>isPartial</th>\n",
       "      <th>scale</th>\n",
       "      <th>mev</th>\n",
       "    </tr>\n",
       "    <tr>\n",
       "      <th>date</th>\n",
       "      <th></th>\n",
       "      <th></th>\n",
       "      <th></th>\n",
       "      <th></th>\n",
       "      <th></th>\n",
       "    </tr>\n",
       "  </thead>\n",
       "  <tbody>\n",
       "    <tr>\n",
       "      <th>2019-01-01</th>\n",
       "      <td>52</td>\n",
       "      <td>NaN</td>\n",
       "      <td>NaN</td>\n",
       "      <td>NaN</td>\n",
       "      <td>NaN</td>\n",
       "    </tr>\n",
       "    <tr>\n",
       "      <th>2019-01-02</th>\n",
       "      <td>35</td>\n",
       "      <td>NaN</td>\n",
       "      <td>NaN</td>\n",
       "      <td>NaN</td>\n",
       "      <td>NaN</td>\n",
       "    </tr>\n",
       "    <tr>\n",
       "      <th>2019-01-03</th>\n",
       "      <td>16</td>\n",
       "      <td>NaN</td>\n",
       "      <td>NaN</td>\n",
       "      <td>NaN</td>\n",
       "      <td>NaN</td>\n",
       "    </tr>\n",
       "    <tr>\n",
       "      <th>2019-01-04</th>\n",
       "      <td>0</td>\n",
       "      <td>NaN</td>\n",
       "      <td>NaN</td>\n",
       "      <td>NaN</td>\n",
       "      <td>NaN</td>\n",
       "    </tr>\n",
       "    <tr>\n",
       "      <th>2019-01-05</th>\n",
       "      <td>67</td>\n",
       "      <td>NaN</td>\n",
       "      <td>NaN</td>\n",
       "      <td>NaN</td>\n",
       "      <td>NaN</td>\n",
       "    </tr>\n",
       "    <tr>\n",
       "      <th>...</th>\n",
       "      <td>...</td>\n",
       "      <td>...</td>\n",
       "      <td>...</td>\n",
       "      <td>...</td>\n",
       "      <td>...</td>\n",
       "    </tr>\n",
       "    <tr>\n",
       "      <th>2020-09-26</th>\n",
       "      <td>40</td>\n",
       "      <td>48.0</td>\n",
       "      <td>NaN</td>\n",
       "      <td>0.48</td>\n",
       "      <td>19.20</td>\n",
       "    </tr>\n",
       "    <tr>\n",
       "      <th>2020-09-27</th>\n",
       "      <td>69</td>\n",
       "      <td>41.0</td>\n",
       "      <td>False</td>\n",
       "      <td>0.41</td>\n",
       "      <td>28.29</td>\n",
       "    </tr>\n",
       "    <tr>\n",
       "      <th>2020-09-28</th>\n",
       "      <td>51</td>\n",
       "      <td>41.0</td>\n",
       "      <td>NaN</td>\n",
       "      <td>0.41</td>\n",
       "      <td>20.91</td>\n",
       "    </tr>\n",
       "    <tr>\n",
       "      <th>2020-09-29</th>\n",
       "      <td>50</td>\n",
       "      <td>41.0</td>\n",
       "      <td>NaN</td>\n",
       "      <td>0.41</td>\n",
       "      <td>20.50</td>\n",
       "    </tr>\n",
       "    <tr>\n",
       "      <th>2020-09-30</th>\n",
       "      <td>51</td>\n",
       "      <td>41.0</td>\n",
       "      <td>NaN</td>\n",
       "      <td>0.41</td>\n",
       "      <td>20.91</td>\n",
       "    </tr>\n",
       "  </tbody>\n",
       "</table>\n",
       "<p>639 rows × 5 columns</p>\n",
       "</div>"
      ],
      "text/plain": [
       "            mev_unscaled  mev_monthly isPartial  scale    mev\n",
       "date                                                         \n",
       "2019-01-01            52          NaN       NaN    NaN    NaN\n",
       "2019-01-02            35          NaN       NaN    NaN    NaN\n",
       "2019-01-03            16          NaN       NaN    NaN    NaN\n",
       "2019-01-04             0          NaN       NaN    NaN    NaN\n",
       "2019-01-05            67          NaN       NaN    NaN    NaN\n",
       "...                  ...          ...       ...    ...    ...\n",
       "2020-09-26            40         48.0       NaN   0.48  19.20\n",
       "2020-09-27            69         41.0     False   0.41  28.29\n",
       "2020-09-28            51         41.0       NaN   0.41  20.91\n",
       "2020-09-29            50         41.0       NaN   0.41  20.50\n",
       "2020-09-30            51         41.0       NaN   0.41  20.91\n",
       "\n",
       "[639 rows x 5 columns]"
      ]
     },
     "execution_count": 39,
     "metadata": {},
     "output_type": "execute_result"
    }
   ],
   "source": [
    "pd.concat([dftrendmev_0, dftrendmev_1, dftrendmev_2])"
   ]
  },
  {
   "cell_type": "code",
   "execution_count": null,
   "metadata": {},
   "outputs": [],
   "source": []
  }
 ],
 "metadata": {
  "kernelspec": {
   "display_name": "Python 3.8.15 ('blockchain-ethics-uvFTNgiX')",
   "language": "python",
   "name": "python3"
  },
  "language_info": {
   "codemirror_mode": {
    "name": "ipython",
    "version": 3
   },
   "file_extension": ".py",
   "mimetype": "text/x-python",
   "name": "python",
   "nbconvert_exporter": "python",
   "pygments_lexer": "ipython3",
   "version": "3.8.15"
  },
  "orig_nbformat": 4,
  "vscode": {
   "interpreter": {
    "hash": "5c122c37a72ff3021d9f1cd63a3378f072ebc5f4b45e78e09e0a511d670f596e"
   }
  }
 },
 "nbformat": 4,
 "nbformat_minor": 2
}
